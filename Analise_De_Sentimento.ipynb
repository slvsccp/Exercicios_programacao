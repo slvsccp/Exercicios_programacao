{
  "nbformat": 4,
  "nbformat_minor": 0,
  "metadata": {
    "colab": {
      "name": "Analise_De_Sentimento.ipynb",
      "provenance": [],
      "authorship_tag": "ABX9TyPih3bfAZHN6lxP0G+fPeSz",
      "include_colab_link": true
    },
    "kernelspec": {
      "name": "python3",
      "display_name": "Python 3"
    }
  },
  "cells": [
    {
      "cell_type": "markdown",
      "metadata": {
        "id": "view-in-github",
        "colab_type": "text"
      },
      "source": [
        "<a href=\"https://colab.research.google.com/github/slvsccp/Uninove/blob/main/Analise_De_Sentimento.ipynb\" target=\"_parent\"><img src=\"https://colab.research.google.com/assets/colab-badge.svg\" alt=\"Open In Colab\"/></a>"
      ]
    },
    {
      "cell_type": "code",
      "metadata": {
        "id": "uFEKdHR-KRlF"
      },
      "source": [
        "# Analisar sentimentos de frases\n",
        "# Classificar a frase: positiva ou negativa\n",
        "\n",
        "# A disciplina de aprendizagem de máquina é difícil: negativo\n",
        "# Sábado fez um Sol muito bonito: positivo"
      ],
      "execution_count": null,
      "outputs": []
    },
    {
      "cell_type": "code",
      "metadata": {
        "colab": {
          "base_uri": "https://localhost:8080/"
        },
        "id": "6D6TfUGTQGyc",
        "outputId": "c4e6f3ac-53be-4e06-a4d3-cf536e492a79"
      },
      "source": [
        "from textblob.classifiers import NaiveBayesClassifier\n",
        "from textblob import TextBlob\n",
        "\n",
        "import nltk\n",
        "nltk.download('punkt')"
      ],
      "execution_count": null,
      "outputs": [
        {
          "output_type": "stream",
          "text": [
            "[nltk_data] Downloading package punkt to /root/nltk_data...\n",
            "[nltk_data]   Unzipping tokenizers/punkt.zip.\n"
          ],
          "name": "stdout"
        },
        {
          "output_type": "execute_result",
          "data": {
            "text/plain": [
              "True"
            ]
          },
          "metadata": {
            "tags": []
          },
          "execution_count": 1
        }
      ]
    },
    {
      "cell_type": "code",
      "metadata": {
        "colab": {
          "base_uri": "https://localhost:8080/"
        },
        "id": "OYys4vSvQMSv",
        "outputId": "b768b50d-1634-4d5e-fe2f-59ce0ea2e4c8"
      },
      "source": [
        "# criando o conjunto de treinamento\n",
        "train_set = [\n",
        "    ('Eu adoro comer hamburguer', 'positivo'),\n",
        "    ('Este lugar é horrível', 'negativo'),\n",
        "    ('Sábado fez um Sol muito bonito', 'positivo'),\n",
        "    ('A disciplina de aprendizagem de máquina é difícil', 'negativo'),\n",
        "    ('A festa está péssima', 'negativo'),\n",
        "    ('Este lugar é maravilhoso', 'positivo'),\n",
        "    ('Maradona é melhor que Suarez', 'positivo'),\n",
        "    ('Ronaldinho é melhor que Suarez', 'positivo')\n",
        "]\n",
        "\n",
        "test_set = [\n",
        "    ('Não gosto de hamburguer', 'negativo'),\n",
        "    ('Este lugar é lindo', 'positivo'),\n",
        "    ('Comida gostosa', 'positivo'),\n",
        "    ('Estudar disciplinas de matemática é difícil', 'negativo'),\n",
        "    ('Hoje o dia está bonito', 'positivo')\n",
        "]\n",
        "\n",
        "cl = NaiveBayesClassifier(train_set)\n",
        "accuracy = cl.accuracy(test_set)\n",
        "print('Precisão do classificador: {}'.format(accuracy), '\\n')"
      ],
      "execution_count": null,
      "outputs": [
        {
          "output_type": "stream",
          "text": [
            "Precisão do classificador: 0.8 \n",
            "\n"
          ],
          "name": "stdout"
        }
      ]
    },
    {
      "cell_type": "code",
      "metadata": {
        "colab": {
          "base_uri": "https://localhost:8080/"
        },
        "id": "tli7uj91QPhf",
        "outputId": "be918fac-f6b4-4bb0-edd5-817c120f7764"
      },
      "source": [
        "frase = 'Ronaldinho é melhor do que Messi'\n",
        "blob = TextBlob(frase, classifier=cl)\n",
        "print('A frase [{}] é de caráter: {}'.format(frase, blob.classify()))"
      ],
      "execution_count": null,
      "outputs": [
        {
          "output_type": "stream",
          "text": [
            "A frase [Ronaldinho é melhor do que Messi] é de caráter: positivo\n"
          ],
          "name": "stdout"
        }
      ]
    },
    {
      "cell_type": "code",
      "metadata": {
        "id": "A6qekf1ybTUt",
        "colab": {
          "base_uri": "https://localhost:8080/"
        },
        "outputId": "97fcc70f-fe35-4aec-ebfe-23843977eff3"
      },
      "source": [
        "frases = ['Ronaldinho é melhor que Messi', 'Hoje o dia está bonito', 'Palmeiras não tem mundial']\n",
        "for f in frases:\n",
        "    blob = TextBlob(f, classifier=cl)\n",
        "    print('A frase [{}] é de caráter: {}'.format(f, blob.classify()))"
      ],
      "execution_count": null,
      "outputs": [
        {
          "output_type": "stream",
          "text": [
            "A frase [Ronaldinho é melhor que Messi] é de caráter: positivo\n",
            "A frase [Hoje o dia está bonito] é de caráter: positivo\n",
            "A frase [Palmeiras não tem mundial] é de caráter: positivo\n"
          ],
          "name": "stdout"
        }
      ]
    }
  ]
}