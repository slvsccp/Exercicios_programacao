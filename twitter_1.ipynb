{
  "nbformat": 4,
  "nbformat_minor": 0,
  "metadata": {
    "colab": {
      "name": "twitter_1.ipynb",
      "provenance": [],
      "collapsed_sections": [],
      "include_colab_link": true
    },
    "kernelspec": {
      "name": "python3",
      "display_name": "Python 3"
    }
  },
  "cells": [
    {
      "cell_type": "markdown",
      "metadata": {
        "id": "view-in-github",
        "colab_type": "text"
      },
      "source": [
        "<a href=\"https://colab.research.google.com/github/slvsccp/Uninove/blob/main/twitter_1.ipynb\" target=\"_parent\"><img src=\"https://colab.research.google.com/assets/colab-badge.svg\" alt=\"Open In Colab\"/></a>"
      ]
    },
    {
      "cell_type": "markdown",
      "metadata": {
        "id": "lH_ocPrfCXSB"
      },
      "source": [
        "# Importando as bibliotecas necessárias"
      ]
    },
    {
      "cell_type": "code",
      "metadata": {
        "id": "SLAueM8GR60b"
      },
      "source": [
        "import tweepy\n",
        "import pandas as pd\n",
        "from datetime import datetime\n",
        "from textblob import TextBlob\n",
        "import matplotlib.pyplot as plt\n",
        "%matplotlib inline"
      ],
      "execution_count": null,
      "outputs": []
    },
    {
      "cell_type": "markdown",
      "metadata": {
        "id": "XoVvMuHkTGo0"
      },
      "source": [
        "# Dados da autenticação"
      ]
    },
    {
      "cell_type": "code",
      "metadata": {
        "id": "eqNhSKOZTEut"
      },
      "source": [
        "# dados das chaves\n",
        "consumer_key = ''\n",
        "consumer_secret = ''\n",
        "access_token = ''\n",
        "access_token_secret = ''"
      ],
      "execution_count": null,
      "outputs": []
    },
    {
      "cell_type": "markdown",
      "metadata": {
        "id": "pmqOO-ivTW7N"
      },
      "source": [
        "# Autenticando no Twitter via API"
      ]
    },
    {
      "cell_type": "code",
      "metadata": {
        "id": "4KG5ozS8TZj9"
      },
      "source": [
        "# realizando a autenticação\n",
        "auth = tweepy.OAuthHandler(consumer_key, consumer_secret)\n",
        "auth.set_access_token(access_token, access_token_secret)\n",
        "api = tweepy.API(auth, wait_on_rate_limit=True, wait_on_rate_limit_notify=True, retry_count=5, retry_delay=10)"
      ],
      "execution_count": null,
      "outputs": []
    },
    {
      "cell_type": "markdown",
      "metadata": {
        "id": "WTILAvt2VPVK"
      },
      "source": [
        "# Métodos para realizar a pesquisa por palavra ou frase\n",
        "\n",
        "+ *Polarity* (polaridade) - é um valor contínuo que varia entre -1.0 e 1.0 e se refere a 100% negativo ou 100% positivo\n",
        "\n",
        "+ *Subjectivity* (subjetividade) - é uma valor contínuo entre 0.0 e 1.0 onde 100% objetivo e 100% subjetivo"
      ]
    },
    {
      "cell_type": "code",
      "metadata": {
        "id": "WSDpShsLVMLn"
      },
      "source": [
        "count = 50 # total de registros que queremos recuperar\n",
        "lang = 'pt' # idioma\n",
        "keyword = \"'Uninove' OR 'Uni9' OR 'uni9'\" # o que queremos procurar\n",
        "\n",
        "# configurar a requisição ao twitter\n",
        "tweets = api.search(\n",
        "    q = keyword, # palavra ou frase para pesquisa\n",
        "    rpp = count, # números de registros a serem retornados\n",
        "    result_type = 'mixed', # tipo de resultado que queremos (texto completo da mensagem)\n",
        "    since = datetime(2020, 6, 30, 0, 0, 0).date(), # data a partir da qual queremos pesquisar\n",
        "    lang = lang # idioma da pesquisa\n",
        ")\n",
        "\n",
        "dados = [] # vamos guardar os dados de retorno\n",
        "sentimento = [] # vamos guardar o sentimento de cada frase (postagem)\n",
        "\n",
        "for tweet in tweets: # percorrer cada uma das mensagens retornadas\n",
        "    frase = TextBlob(tweet.text) # colocamos cada mensagem retornada na variável para tratamento\n",
        "\n",
        "    # vamos traduzir automaticamente para o inglês, a fim de usar a biblioteca TextBlob para veriricar o sentimento\n",
        "    if frase.detect_language() != 'en':\n",
        "        traducao = TextBlob(str(frase.translate(to='en')))\n",
        "        dados.append(\n",
        "            [tweet.user.name, tweet.text, traducao.sentiment[0], traducao.sentiment[1]]\n",
        "        )\n",
        "    else:\n",
        "        dados.append(\n",
        "            [tweet.user.name, tweet.text, frase.sentiment[0], frase.sentiment[1]]\n",
        "        )\n",
        "\n",
        "    # verificar os sentimentos\n",
        "    if traducao.sentiment[0] > 0:\n",
        "        sentimento.append('Positivo')\n",
        "    elif traducao.sentiment[0] < 0:\n",
        "        sentimento.append('Negativo')\n",
        "    else:\n",
        "        sentimento.append('Indiferente')\n",
        "\n",
        "tweets_df = pd.DataFrame(dados, columns=['usuario', 'tweet', 'sentimento', 'polaridade'])\n",
        "tweets_df['status'] = sentimento # agregamos a coluna status ao DataFrame\n",
        "\n",
        "# ordenar os dados por importância do sentimento\n",
        "tweets_df.sort_values(by='sentimento', ascending=False)"
      ],
      "execution_count": null,
      "outputs": []
    },
    {
      "cell_type": "code",
      "metadata": {
        "id": "-Skis7B5dXL3"
      },
      "source": [
        "# mostra todos os registros da coluna status\n",
        "tweets_df.status "
      ],
      "execution_count": null,
      "outputs": []
    },
    {
      "cell_type": "code",
      "metadata": {
        "id": "ekZFCN3YgNln"
      },
      "source": [
        "# Contando as ocorrências dos \"status\"\n",
        "tweets_df.status.value_counts() "
      ],
      "execution_count": null,
      "outputs": []
    },
    {
      "cell_type": "code",
      "metadata": {
        "id": "MINQk35mgcFp"
      },
      "source": [
        "# Plotagem do gráfico dos \"status\"\n",
        "plt.figure(1, figsize=(20, 6))\n",
        "plt.title(\"Status das mensagens (sentimento)\")\n",
        "tweets_df.status.value_counts().plot.bar()\n",
        "plt.show()"
      ],
      "execution_count": null,
      "outputs": []
    },
    {
      "cell_type": "code",
      "metadata": {
        "id": "ZlVzXKKug7Wv"
      },
      "source": [
        "# Percorrendo linha a linha o dataset com iterrows() e mostrando o resultado\n",
        "for index, row in tweets_df.iterrows():\n",
        "    print(row.usuario, row.tweet, row.status)"
      ],
      "execution_count": null,
      "outputs": []
    }
  ]
}