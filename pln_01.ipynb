{
  "nbformat": 4,
  "nbformat_minor": 0,
  "metadata": {
    "colab": {
      "name": "pln_01.ipynb",
      "provenance": [],
      "collapsed_sections": [],
      "include_colab_link": true
    },
    "kernelspec": {
      "name": "python3",
      "display_name": "Python 3"
    }
  },
  "cells": [
    {
      "cell_type": "markdown",
      "metadata": {
        "id": "view-in-github",
        "colab_type": "text"
      },
      "source": [
        "<a href=\"https://colab.research.google.com/github/slvsccp/Uninove/blob/main/pln_01.ipynb\" target=\"_parent\"><img src=\"https://colab.research.google.com/assets/colab-badge.svg\" alt=\"Open In Colab\"/></a>"
      ]
    },
    {
      "cell_type": "markdown",
      "metadata": {
        "id": "SbC4Ds1J-0Np"
      },
      "source": [
        "**Processamento de Linguagem Natural com Python**"
      ]
    },
    {
      "cell_type": "code",
      "metadata": {
        "id": "J9FpfALI-4_f"
      },
      "source": [
        "import nltk\n",
        "nltk.download('stopwords')\n",
        "nltk.download('wordnet')\n",
        "nltk.download('punkt')\n",
        "nltk.download('averaged_perceptron_tagger')\n",
        "nltk.download('rslp')"
      ],
      "execution_count": null,
      "outputs": []
    },
    {
      "cell_type": "code",
      "metadata": {
        "id": "4SfRoZbOFFXQ"
      },
      "source": [
        "# calcula a frequência das palavras informadas no parâmetro\n",
        "def sortFreqDict(freqDict):\n",
        "  aux = [(freqDict[key], key) for key in freqDict] # converte os elementos do dicionário para uma lista\n",
        "  aux.sort() # ordena a lista em ordem crescente\n",
        "  aux.reverse() # ordena em ordem inversa (decrescente)\n",
        "\n",
        "  return aux"
      ],
      "execution_count": null,
      "outputs": []
    },
    {
      "cell_type": "code",
      "metadata": {
        "id": "qtN-kRJgBHSx"
      },
      "source": [
        "# vamos criar uma frase para começar analisar o texto\n",
        "frase = \"O curso de TADS é excelente para aprender vários aspectos sobre TI. Neste curso, as disciplinas estao todas conectadas de alguma forma, mesmo que implicitamente.\""
      ],
      "execution_count": null,
      "outputs": []
    },
    {
      "cell_type": "code",
      "metadata": {
        "id": "CGIKiDFgBybY",
        "colab": {
          "base_uri": "https://localhost:8080/",
          "height": 510
        },
        "outputId": "6d5dc834-9da2-4ba1-bd47-af37b9552831"
      },
      "source": [
        "#tokenização (tokenize) - separar uma frase em palavras (tokens)\n",
        "palavras = nltk.word_tokenize(frase)\n",
        "palavras"
      ],
      "execution_count": null,
      "outputs": [
        {
          "output_type": "execute_result",
          "data": {
            "text/plain": [
              "['O',\n",
              " 'curso',\n",
              " 'de',\n",
              " 'TADS',\n",
              " 'é',\n",
              " 'excelente',\n",
              " 'para',\n",
              " 'aprender',\n",
              " 'vários',\n",
              " 'aspectos',\n",
              " 'sobre',\n",
              " 'TI',\n",
              " '.',\n",
              " 'Neste',\n",
              " 'curso',\n",
              " ',',\n",
              " 'as',\n",
              " 'disciplinas',\n",
              " 'estao',\n",
              " 'todas',\n",
              " 'conectadas',\n",
              " 'de',\n",
              " 'alguma',\n",
              " 'forma',\n",
              " ',',\n",
              " 'mesmo',\n",
              " 'que',\n",
              " 'implicitamente',\n",
              " '.']"
            ]
          },
          "metadata": {
            "tags": []
          },
          "execution_count": 27
        }
      ]
    },
    {
      "cell_type": "code",
      "metadata": {
        "id": "xT7ZRl_cDKAg"
      },
      "source": [
        "# calcular a frequência das palavras\n",
        "frequencia = nltk.FreqDist(palavras)\n",
        "frequencia"
      ],
      "execution_count": null,
      "outputs": []
    },
    {
      "cell_type": "code",
      "metadata": {
        "id": "sjcAhoK_DvDc"
      },
      "source": [
        "sortFreqDict(frequencia)"
      ],
      "execution_count": null,
      "outputs": []
    },
    {
      "cell_type": "code",
      "metadata": {
        "id": "mk87pZoqHpmT"
      },
      "source": [
        "import numpy as np\n",
        "import matplotlib.pyplot as plt\n",
        "\n",
        "plt.style.use('seaborn')\n",
        "\n",
        "palavras = frequencia.keys()\n",
        "y_pos = np.arange(len(palavras))\n",
        "contagem = frequencia.values()\n",
        "\n",
        "plt.bar(y_pos, contagem, align='center', alpha=0.5)\n",
        "plt.xticks(y_pos, palavras)\n",
        "plt.ylabel('Frequencia')\n",
        "plt.title('Frequencia das palavras na frase')\n",
        "plt.show()"
      ],
      "execution_count": null,
      "outputs": []
    },
    {
      "cell_type": "code",
      "metadata": {
        "id": "P66K6_qkKVlM",
        "colab": {
          "base_uri": "https://localhost:8080/",
          "height": 35
        },
        "outputId": "3414fa0d-e0a0-41be-c50c-5780fa0a6377"
      },
      "source": [
        "# calculando prefixos (lexemas) - stemmer\n",
        "# Exemplo com a palavra \"curso\"\n",
        "\n",
        "stm = nltk.RSLPStemmer() # cria um objeto de stemmer\n",
        "stm.stem('curso')"
      ],
      "execution_count": null,
      "outputs": [
        {
          "output_type": "execute_result",
          "data": {
            "application/vnd.google.colaboratory.intrinsic+json": {
              "type": "string"
            },
            "text/plain": [
              "'curs'"
            ]
          },
          "metadata": {
            "tags": []
          },
          "execution_count": 30
        }
      ]
    },
    {
      "cell_type": "code",
      "metadata": {
        "id": "Qg4RSTVTM1bJ",
        "colab": {
          "base_uri": "https://localhost:8080/",
          "height": 34
        },
        "outputId": "15e33250-3bf8-4831-a461-51af74ab4221"
      },
      "source": [
        "# De acordo com a lista abaixo, determinar quais prefixos são iguais e a quantidade\n",
        "lista = ['casamento', 'casa', 'casado', 'casei', 'cansado']\n",
        "\n",
        "aux = [] # declaração de uma lista\n",
        "for p in lista: \n",
        "    aux.append(stm.stem(p))\n",
        "nltk.FreqDist(aux)"
      ],
      "execution_count": null,
      "outputs": [
        {
          "output_type": "execute_result",
          "data": {
            "text/plain": [
              "FreqDist({'cans': 1, 'cas': 4})"
            ]
          },
          "metadata": {
            "tags": []
          },
          "execution_count": 35
        }
      ]
    },
    {
      "cell_type": "code",
      "metadata": {
        "id": "Cbh4-euLVotx",
        "colab": {
          "base_uri": "https://localhost:8080/",
          "height": 34
        },
        "outputId": "e30be74d-7002-4594-c8ad-b36ea191ac01"
      },
      "source": [
        "# solução alternativa - modo Hard\n",
        "nltk.FreqDist([stm.stem(p) for p in lista])"
      ],
      "execution_count": null,
      "outputs": [
        {
          "output_type": "execute_result",
          "data": {
            "text/plain": [
              "FreqDist({'cans': 1, 'cas': 4})"
            ]
          },
          "metadata": {
            "tags": []
          },
          "execution_count": 39
        }
      ]
    },
    {
      "cell_type": "code",
      "metadata": {
        "id": "I9jl3P1zXmWs",
        "colab": {
          "base_uri": "https://localhost:8080/",
          "height": 34
        },
        "outputId": "b5a43e5d-71be-401f-f491-250099546a60"
      },
      "source": [
        "# exemplo de contagem sem freq\n",
        "from collections import Counter\n",
        "aux = ['Maria', 'José', 'Edson', 'Maria', 'Carlos']\n",
        "Counter(aux)"
      ],
      "execution_count": null,
      "outputs": [
        {
          "output_type": "execute_result",
          "data": {
            "text/plain": [
              "Counter({'Carlos': 1, 'Edson': 1, 'José': 1, 'Maria': 2})"
            ]
          },
          "metadata": {
            "tags": []
          },
          "execution_count": 41
        }
      ]
    },
    {
      "cell_type": "code",
      "metadata": {
        "id": "TXOkzq6vYsRI",
        "colab": {
          "base_uri": "https://localhost:8080/",
          "height": 52
        },
        "outputId": "7d614c0e-5050-44c5-bdec-9124cbb3a5a9"
      },
      "source": [
        "frase"
      ],
      "execution_count": null,
      "outputs": [
        {
          "output_type": "execute_result",
          "data": {
            "application/vnd.google.colaboratory.intrinsic+json": {
              "type": "string"
            },
            "text/plain": [
              "'O curso de TADS é excelente para aprender vários aspectos sobre TI. Neste curso, as disciplinas estao todas conectadas de alguma forma, mesmo que implicitamente.'"
            ]
          },
          "metadata": {
            "tags": []
          },
          "execution_count": 42
        }
      ]
    }
  ]
}