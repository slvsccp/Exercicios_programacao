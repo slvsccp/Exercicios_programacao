{
  "nbformat": 4,
  "nbformat_minor": 0,
  "metadata": {
    "colab": {
      "name": "Twitter.ipynb",
      "provenance": [],
      "authorship_tag": "ABX9TyNLnno85AosjokRByrCib4F",
      "include_colab_link": true
    },
    "kernelspec": {
      "name": "python3",
      "display_name": "Python 3"
    }
  },
  "cells": [
    {
      "cell_type": "markdown",
      "metadata": {
        "id": "view-in-github",
        "colab_type": "text"
      },
      "source": [
        "<a href=\"https://colab.research.google.com/github/slvsccp/Uninove/blob/main/Twitter.ipynb\" target=\"_parent\"><img src=\"https://colab.research.google.com/assets/colab-badge.svg\" alt=\"Open In Colab\"/></a>"
      ]
    },
    {
      "cell_type": "markdown",
      "metadata": {
        "id": "OhMioy90NXEr"
      },
      "source": [
        "#Analise de sentimento com o Twitter"
      ]
    },
    {
      "cell_type": "code",
      "metadata": {
        "id": "TO_5DunxKsvR"
      },
      "source": [
        "import tweepy #biblioteca para trabalhar com o twitter\n",
        "import pandas as pd\n",
        "from textblob import TextBlob #trabalha com a análise de sentimento\n",
        "from datetime import datetime"
      ],
      "execution_count": 1,
      "outputs": []
    },
    {
      "cell_type": "code",
      "metadata": {
        "id": "C8y4ZPMdLQhK"
      },
      "source": [
        "#Dados das chaves\n",
        "consumer_key = ''\n",
        "consumer_secret = ''\n",
        "acess_token = ''\n",
        "acess_token_secret = ''"
      ],
      "execution_count": null,
      "outputs": []
    },
    {
      "cell_type": "code",
      "metadata": {
        "id": "KgVSRipULkkZ"
      },
      "source": [
        "#Realizando a autenticação\n",
        "auth = tweepy.OAuthHandler(consumer_key, consumer_secret)\n",
        "auth.set_access_token(access_token, access_token_secret)\n",
        "api = tweepy.API(auth, wait_on_rate_limit=True, wait_on_rate_limit_notify=True, retry_count=5, retry_delay=10)"
      ],
      "execution_count": null,
      "outputs": []
    },
    {
      "cell_type": "code",
      "metadata": {
        "id": "DXuQCiYfR0it"
      },
      "source": [
        "#Polarity - é um valor contínuo que varia entre -1.0 e 1.0 e se refere a 100% negativo ou 100% positivo\n",
        "#Subjectivity - é um valor contínuo entre 0.0 e 1.0 onde 100% objetivo e 100% subjetivo"
      ],
      "execution_count": null,
      "outputs": []
    },
    {
      "cell_type": "code",
      "metadata": {
        "id": "zy02kx-pVgal"
      },
      "source": [
        "count = 50 #total de registros que queremos recuperar\n",
        "lang = 'pt' #idioma\n",
        "keyword = '' # o que queremos procurar\n",
        "\n",
        "#configurar a requisição ao Twitter\n",
        "tweets = api.search(\n",
        "    q = keyword, #palavra ou frase para pesquisa\n",
        "    rpp = count, #números de registros a serem retornados\n",
        "    result_type = 'mixed', #tipo de resultado que queremos (texto completo da mensagem)\n",
        "    since = datetime(2020, 6, 30, 0, 0, 0).date(), # data a partir da qual queremos pesquisar\n",
        "    lang = lang #idioma da pesquisa\n",
        ")\n",
        "\n",
        "dados = [] #vamos guardar os dados de retorno\n",
        "sentimento = [] #vamos guardas o sentimento de cada frase (postagem)\n",
        "\n",
        "for tweet in tweets: #percorrer cada uma das msg retornadas\n",
        "  frase = TextBlob(tweet.text) #colocamos cada mensagem retornada na varável para tratamento\n",
        "\n",
        "  #vamos traduzir automaticamente para o inglês, a fim de usar a biblioteca TextBlob para verificar o sentimento\n",
        "  if frase.detect_language() != 'en':\n",
        "    traducao = TextBlob(str(frase.translate(to='en')))\n",
        "    dados.append(\n",
        "        [tweet.user.name, tweet.text, traducao.sentiment[0], traduco.sentiment[1]]\n",
        "        )\n",
        "  else:\n",
        "      dados.append(\n",
        "        [tweet.user.name, tweet.text, frase.sentiment[0], frase.sentiment[1]]\n",
        "        )\n",
        "      \n",
        "    # verificar os sentimentos\n",
        "    if traducao.sentiment[0] > 0:\n",
        "        sentimento.append('positivo')\n",
        "    elif traducao.sentiment[0] < 0:\n",
        "        sentimento.append('Negativo')\n",
        "    else:\n",
        "        sentimento.append('Indiferente')\n",
        "\n",
        "\n",
        "tweets_df = pd.DataFrame(dados, columns=['usuario', 'tweet', 'sentimento', 'polaridade'])\n",
        "\n",
        "tweets_df['status'] = sentimento #agregamos a coluna status ao DataFrame\n",
        "\n",
        "tweets_df"
      ],
      "execution_count": null,
      "outputs": []
    },
    {
      "cell_type": "code",
      "metadata": {
        "id": "qJbEN3w3dOZ4"
      },
      "source": [
        "# ordernar os dados por importância do sentimento\n",
        "tweets_df.sort_values(by='sentimento', asceding=False)"
      ],
      "execution_count": null,
      "outputs": []
    }
  ]
}